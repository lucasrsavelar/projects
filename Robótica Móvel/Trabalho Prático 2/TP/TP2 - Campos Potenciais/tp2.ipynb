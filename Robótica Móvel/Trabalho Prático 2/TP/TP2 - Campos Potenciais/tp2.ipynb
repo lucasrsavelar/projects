{
 "cells": [
  {
   "cell_type": "markdown",
   "id": "73e8ba4e-350f-4292-84b5-68ea33a7c52b",
   "metadata": {},
   "source": [
    "## Trabalho Prático #2: Planejamento e navegação ##\n",
    "#### Integrantes: ####\n",
    "* Filipe Rodrigues Batista de Oliveira \n",
    "* Lucas Avelar "
   ]
  },
  {
   "cell_type": "code",
   "execution_count": 1,
   "id": "3d425c81-e6a9-47d9-bdee-9684a9c3972d",
   "metadata": {},
   "outputs": [],
   "source": [
    "import time\n",
    "import numpy as np\n",
    "from matplotlib import pyplot as plt\n",
    "\n",
    "import sim"
   ]
  },
  {
   "cell_type": "markdown",
   "id": "0d85d477-af3c-436f-be82-7edc579cfcc9",
   "metadata": {},
   "source": [
    "### Parte II - Campos Potenciais.\n",
    "\n",
    "Primeiramente vamos definir algumas constantes"
   ]
  },
  {
   "cell_type": "code",
   "execution_count": 2,
   "id": "3d762218-c5b9-416f-b363-9ec41850e511",
   "metadata": {},
   "outputs": [],
   "source": [
    "DIST_LIMITE_OBJ = 0.5\n",
    "RAIO_INFLUENCIA_OBS = 2"
   ]
  },
  {
   "cell_type": "markdown",
   "id": "0906c660-7d37-4c7e-bbc3-9abbda178ef2",
   "metadata": {},
   "source": [
    "Agora, implementamos as funções que vão calcular as forças de repulsão e de atração, sendo combinados posteriormente no código principal."
   ]
  },
  {
   "cell_type": "code",
   "execution_count": 3,
   "id": "e8dc5cf1-1093-4883-af01-ef18bec067a6",
   "metadata": {},
   "outputs": [],
   "source": [
    "def calcular_forca_rep(q, dist_obstaculos, k_rep = 1):\n",
    "    # Se não tem obstáculos.\n",
    "    if dist_obstaculos == []:\n",
    "        return np.zeros((1,2))\n",
    "    else:\n",
    "        forca_rep = 0\n",
    "        for d in dist_obstaculos:\n",
    "            forca_rep += (1/d**2)*((1/d)-(1/RAIO_INFLUENCIA_OBS))*(q/d)\n",
    "\n",
    "        # print(\"Frep\", forca_rep)\n",
    "        \n",
    "        return k_rep * forca_rep.reshape((1,2))"
   ]
  },
  {
   "cell_type": "code",
   "execution_count": 4,
   "id": "f79d7b8a-f273-40c6-998e-6ccf99515278",
   "metadata": {},
   "outputs": [],
   "source": [
    "def calcular_forca_attr(q, obj, k_attr=0.1):\n",
    "    forca_attr = k_attr * (obj - q)\n",
    "    \n",
    "    # print(\"Fattr\", forca_attr)\n",
    "    return forca_attr"
   ]
  },
  {
   "cell_type": "markdown",
   "id": "93ea70e1-b719-4e72-9e74-26ceab112341",
   "metadata": {},
   "source": [
    "Para ler as informações vindas do sensor e a plotagem."
   ]
  },
  {
   "cell_type": "code",
   "execution_count": 5,
   "id": "e8cfc079-3814-45e8-8fd4-fe4c84ad232e",
   "metadata": {},
   "outputs": [],
   "source": [
    "def readSensorData(clientId=-1, \n",
    "                    range_data_signal_id=\"hokuyo_range_data\", \n",
    "                    angle_data_signal_id=\"hokuyo_angle_data\"):\n",
    "\n",
    "    # the first call should be non-blocking to avoid getting out-of-sync angle data\n",
    "    returnCodeRanges, string_range_data = sim.simxGetStringSignal(clientId, range_data_signal_id, sim.simx_opmode_streaming)\n",
    "\n",
    "    # the second call should block to avoid out-of-sync scenarios\n",
    "    # between your python script and the simulator's main loop\n",
    "    # (your script may be slower than the simulator's main loop, thus\n",
    "    # slowing down data processing)\n",
    "    returnCodeAngles, string_angle_data = sim.simxGetStringSignal(clientId, angle_data_signal_id, sim.simx_opmode_blocking)\n",
    "\n",
    "    # check the if both data were obtained correctly\n",
    "    if returnCodeRanges == 0 and returnCodeAngles == 0:\n",
    "        # unpack data from range and sensor messages\n",
    "        raw_range_data = sim.simxUnpackFloats(string_range_data)\n",
    "        raw_angle_data = sim.simxUnpackFloats(string_angle_data)\n",
    "\n",
    "        return raw_range_data, raw_angle_data\n",
    "\n",
    "    # return none in case were nothing was gotten from the simulator\n",
    "    return None\n",
    "\n",
    "def get_dist_obstaculos(laser_data): \n",
    "    # Sensor retorna distância até um obstáculo.\n",
    "    frente = int(len(laser_data)/2)\n",
    "    lado_direito = int(len(laser_data)*1/4)\n",
    "    lado_esquerdo = int(len(laser_data)*3/4)\n",
    "\n",
    "    # Posso ter obstáculos em todas as direções.\n",
    "    dist_obstaculos = []\n",
    "    if laser_data[frente, 1] < RAIO_INFLUENCIA_OBS:\n",
    "        print(\"F\")\n",
    "        dist_obstaculos.append(laser_data[frente, 1])\n",
    "    if laser_data[lado_direito, 1] < RAIO_INFLUENCIA_OBS:\n",
    "        print(\"D\")\n",
    "        dist_obstaculos.append(laser_data[lado_direito, 1])\n",
    "    if laser_data[lado_esquerdo, 1] < RAIO_INFLUENCIA_OBS:\n",
    "        print(\"E\")\n",
    "        dist_obstaculos.append(laser_data[lado_direito, 1])\n",
    "        \n",
    "    return dist_obstaculos"
   ]
  },
  {
   "cell_type": "markdown",
   "id": "b7f73daf-4455-4c8a-832f-50b3987bef6e",
   "metadata": {},
   "source": [
    "Finalmente o código principal"
   ]
  },
  {
   "cell_type": "code",
   "execution_count": null,
   "id": "82ea0395-edc7-4ed5-957b-35e21559dc14",
   "metadata": {},
   "outputs": [],
   "source": [
    "sim.simxFinish(-1)\n",
    "id_cliente = sim.simxStart(\"127.0.0.1\", 19999, True, True, 50000, 5)\n",
    "\n",
    "if id_cliente != -1:\n",
    "    # Dimensões do robô.\n",
    "    L = 0.381\n",
    "    r = 0.09751\n",
    "    \n",
    "    maxv = 0.5\n",
    "    maxw = np.deg2rad(30)\n",
    "    \n",
    "    robo_nome = \"Pioneer_p3dx\"\n",
    "    rv, robo = sim.simxGetObjectHandle(id_cliente, robo_nome, sim.simx_opmode_oneshot_wait)\n",
    "    rv, roda_dir = sim.simxGetObjectHandle(id_cliente, robo_nome + \"_rightMotor\", sim.simx_opmode_oneshot_wait)\n",
    "    rv, roda_esq = sim.simxGetObjectHandle(id_cliente, robo_nome + \"_leftMotor\", sim.simx_opmode_oneshot_wait)\n",
    "    laser_range_data = \"hokuyo_range_data\"\n",
    "    laser_angle_data = \"hokuyo_angle_data\"\n",
    "    \n",
    "    # Em loop até garantir que as leituras serão válidas\n",
    "    returnCode = 1\n",
    "    while returnCode != 0:\n",
    "        returnCode, range_data = sim.simxGetStringSignal(id_cliente, laser_range_data, sim.simx_opmode_streaming + 10)\n",
    "    \n",
    "    # Prosseguindo com as leituras\n",
    "    raw_range_data, raw_angle_data = readSensorData(id_cliente, laser_range_data, laser_angle_data)\n",
    "    laser_data = np.array([raw_angle_data, raw_range_data]).T\n",
    "    \n",
    "    rv, obj = sim.simxGetObjectHandle(id_cliente, \"Goal\", sim.simx_opmode_oneshot_wait)\n",
    "    rv, pos_obj = sim.simxGetObjectPosition(id_cliente, obj, -1, sim.simx_opmode_oneshot_wait)\n",
    "    pos_obj = pos_obj[:2]\n",
    "    \n",
    "    # Lembrar de habilitar o Real-time Mode.\n",
    "    t_inicio = time.time()\n",
    "    t_passou = t_inicio\n",
    "    \n",
    "    t = 0\n",
    "    while True:\n",
    "        t_atual = time.time()\n",
    "        dt = t_atual - t_passou\n",
    "        \n",
    "        # Fazendo leitura do laser   \n",
    "        raw_range_data, raw_angle_data = readSensorData(id_cliente, laser_range_data, laser_angle_data)\n",
    "        laser_data = np.array([raw_angle_data, raw_range_data]).T\n",
    "        \n",
    "        dist_obstaculos = get_dist_obstaculos(laser_data)\n",
    "        print(dist_obstaculos)\n",
    "        \n",
    "        # Fazendo leitura da posição do robô\n",
    "        rv, pos = sim.simxGetObjectPosition(id_cliente, robo, -1, sim.simx_opmode_oneshot_wait)\n",
    "        pos = np.array(pos[:2])\n",
    "        rv, orientacao = sim.simxGetObjectOrientation(id_cliente, robo, -1, sim.simx_opmode_oneshot_wait)\n",
    "        orientacao = orientacao[2]\n",
    "        \n",
    "        # Chegou no objetivo?\n",
    "        if np.linalg.norm(pos_obj - pos) < DIST_LIMITE_OBJ:\n",
    "            break\n",
    "            \n",
    "        # Campos potenciais \n",
    "        v = calcular_forca_attr(pos, pos_obj) + calcular_forca_rep(pos, dist_obstaculos)\n",
    "        # print(\"Vt\", v)\n",
    "        dx, dy = v[0, 0], v[0, 1]\n",
    "        \n",
    "        # Controlador\n",
    "        kr, kt = 1, 2\n",
    "        \n",
    "        v = kr*(dx*np.cos(orientacao) + dy*np.sin(orientacao))\n",
    "        w = kt*(np.arctan2(dy,dx) - orientacao)\n",
    "        \n",
    "        # Limita v,w to +/- max\n",
    "        v = max(min(v, maxv), -maxv)\n",
    "        w = max(min(w, maxw), -maxw)        \n",
    "        \n",
    "        # Modelo cinemática inversa.\n",
    "        v_roda_dir = ((2 * v) + (w * L)) / (2 * r)\n",
    "        v_roda_esq = ((2 * v) - (w * L)) / (2 * r)\n",
    "        \n",
    "        sim.simxSetJointTargetVelocity(id_cliente, roda_dir, v_roda_dir, sim.simx_opmode_streaming + 5)\n",
    "        sim.simxSetJointTargetVelocity(id_cliente, roda_esq, v_roda_esq, sim.simx_opmode_streaming + 5)\n",
    "        \n",
    "        t += dt\n",
    "        t_passou = t\n",
    "    \n",
    "    # Parar o robô no objetivo\n",
    "    sim.simxSetJointTargetVelocity(id_cliente, roda_dir, 0, sim.simx_opmode_oneshot_wait)\n",
    "    sim.simxSetJointTargetVelocity(id_cliente, roda_esq, 0, sim.simx_opmode_oneshot_wait)\n",
    "    \n",
    "    sim.simxFinish(id_cliente) \n",
    "\n",
    "else:\n",
    "    print(\"Falha ao conectar-se ao CoppeliaSim.\")"
   ]
  },
  {
   "cell_type": "markdown",
   "id": "2ea5b2fe-125f-489e-b4c7-a5524c285835",
   "metadata": {},
   "source": [
    "#### "
   ]
  }
 ],
 "metadata": {
  "kernelspec": {
   "display_name": "Python 3 (ipykernel)",
   "language": "python",
   "name": "python3"
  },
  "language_info": {
   "codemirror_mode": {
    "name": "ipython",
    "version": 3
   },
   "file_extension": ".py",
   "mimetype": "text/x-python",
   "name": "python",
   "nbconvert_exporter": "python",
   "pygments_lexer": "ipython3",
   "version": "3.10.6"
  }
 },
 "nbformat": 4,
 "nbformat_minor": 5
}
